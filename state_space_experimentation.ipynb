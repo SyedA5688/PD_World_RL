{
 "cells": [
  {
   "cell_type": "code",
   "execution_count": null,
   "metadata": {},
   "outputs": [],
   "source": [
    "import os\n",
    "import numpy as np\n",
    "import pandas as pd"
   ]
  },
  {
   "cell_type": "code",
   "execution_count": 1,
   "metadata": {},
   "outputs": [],
   "source": [
    "def applicable_operators(i, j, i_m, j_m, x, x_m, a, b, c, d, e, f, agent=\"female\"):\n",
    "    \"\"\"\n",
    "    This function computes possible moves for the female agent\n",
    "\n",
    "    Arguments:\n",
    "    - i: row index that female agent is in\n",
    "    - j: col index that female agent is in\n",
    "    - i_m: row index that male agent is in\n",
    "    - j_m: col index that male agent is in\n",
    "    - x: bool if female is carrying block\n",
    "    - x_m: bool if male is carrying block\n",
    "    - a: number of blocks in cell (0,0)\n",
    "    - b: number of blocks in cell (0,4)\n",
    "    - c: number of blocks in cell (2,2)\n",
    "    - d: number of blocks in cell (2,4)\n",
    "    - e: number of blocks in cell (3,1)\n",
    "    - f: number of blocks in cell (4,4)\n",
    "\n",
    "    Returns:\n",
    "        Python list of applicable operators, subset of [\"n\", \"s\", \"e\", \"w\", \"p\", \"d\"]\n",
    "    \"\"\"\n",
    "    applicable_ops = [\"n\", \"s\", \"e\", \"w\"]  # \"p\" and \"d\" are appended if conditions are met\n",
    "\n",
    "    if agent == \"female\":\n",
    "        if i == 4 or i_m == i + 1:\n",
    "            applicable_ops.remove(\"s\")\n",
    "        \n",
    "        if i == 0 or i_m == i - 1:\n",
    "            applicable_ops.remove(\"n\")\n",
    "\n",
    "        if j == 4 or j_m == j + 1:\n",
    "            applicable_ops.remove(\"e\")\n",
    "\n",
    "        if j == 0 or j_m == j - 1:\n",
    "            applicable_ops.remove(\"w\")\n",
    "        \n",
    "        if x==1 and a < 5 and i==0 and j==0:\n",
    "            applicable_ops.append(\"d\")\n",
    "\n",
    "        if x==1 and b < 5 and i==0 and j==4:\n",
    "            applicable_ops.append(\"d\")\n",
    "        \n",
    "        if x==1 and c < 5 and i==2 and j==2:\n",
    "            applicable_ops.append(\"d\")\n",
    "        \n",
    "        if x==1 and f < 5 and i==4 and j==4:\n",
    "            applicable_ops.append(\"d\")\n",
    "        \n",
    "        if x == 0 and d > 0 and i == 2 and j == 4:\n",
    "            applicable_ops.append(\"p\")\n",
    "        \n",
    "        if x == 0 and e > 0 and i == 3 and j == 1:\n",
    "            applicable_ops.append(\"p\")\n",
    "    \n",
    "    else:\n",
    "        if i_m == 4 or i == i_m + 1:\n",
    "            applicable_ops.remove(\"s\")\n",
    "        \n",
    "        if i_m == 0 or i == i_m - 1:\n",
    "            applicable_ops.remove(\"n\")\n",
    "\n",
    "        if j_m == 4 or j == j_m + 1:\n",
    "            applicable_ops.remove(\"e\")\n",
    "\n",
    "        if j_m == 0 or j == j_m - 1:\n",
    "            applicable_ops.remove(\"w\")\n",
    "        \n",
    "        if x_m==1 and a < 5 and i_m==0 and j_m==0:\n",
    "            applicable_ops.append(\"d\")\n",
    "\n",
    "        if x_m==1 and b < 5 and i_m==0 and j_m==4:\n",
    "            applicable_ops.append(\"d\")\n",
    "        \n",
    "        if x_m==1 and c < 5 and i_m==2 and j_m==2:\n",
    "            applicable_ops.append(\"d\")\n",
    "        \n",
    "        if x_m==1 and f < 5 and i_m==4 and j_m==4:\n",
    "            applicable_ops.append(\"d\")\n",
    "        \n",
    "        if x_m == 0 and d > 0 and i_m == 2 and j_m == 4:\n",
    "            applicable_ops.append(\"p\")\n",
    "        \n",
    "        if x_m == 0 and e > 0 and i_m == 3 and j_m == 1:\n",
    "            applicable_ops.append(\"p\")\n",
    "    \n",
    "    return applicable_ops"
   ]
  },
  {
   "cell_type": "code",
   "execution_count": 2,
   "metadata": {},
   "outputs": [
    {
     "data": {
      "text/plain": [
       "['n', 's', 'e', 'w']"
      ]
     },
     "execution_count": 2,
     "metadata": {},
     "output_type": "execute_result"
    }
   ],
   "source": [
    "# First turn moves for female\n",
    "ops = applicable_operators(1,3,5,3,0,0,0,0,0,10,10,0,agent=\"female\")\n",
    "ops"
   ]
  },
  {
   "cell_type": "code",
   "execution_count": null,
   "metadata": {},
   "outputs": [],
   "source": []
  },
  {
   "cell_type": "code",
   "execution_count": null,
   "metadata": {},
   "outputs": [],
   "source": [
    "# Syed - appicable operators, apply,\n",
    "\n",
    "class PDWorld:\n",
    "    def __init__(self, agent_f, agent_m):\n",
    "        self.board = np.zeros((5,5))\n",
    "        self.dropoff_locations = [(0,0), (0,4), (2,2), (4,4)]\n",
    "        self.pickup_locations = [(2,4), (3,1)]\n",
    "        self.female_agent = agent_f\n",
    "        self.male_agent = agent_m\n",
    "\n",
    "    def change_pickup_location(self, new_pickup_locations):\n",
    "        self.pickup_locations.clear()\n",
    "        self.pickup_locations += new_pickup_locations\n",
    "\n",
    "    def save_visual_midrun():\n",
    "        pass\n",
    "\n",
    "\n",
    "class Agent:\n",
    "    def __init__(self, q_table_obj, name=\"female\"):\n",
    "        self.name = name\n",
    "        self.i = 0\n",
    "\n",
    "    \n",
    "\n",
    "\n",
    "class QTable:\n",
    "    def __init__():\n",
    "        pass\n",
    "    \n",
    "    def update_q_table():\n",
    "        pass"
   ]
  },
  {
   "cell_type": "code",
   "execution_count": null,
   "metadata": {},
   "outputs": [],
   "source": []
  }
 ],
 "metadata": {
  "interpreter": {
   "hash": "c6e4e9f98eb68ad3b7c296f83d20e6de614cb42e90992a65aa266555a3137d0d"
  },
  "kernelspec": {
   "display_name": "Python 3.9.7 ('base')",
   "language": "python",
   "name": "python3"
  },
  "language_info": {
   "codemirror_mode": {
    "name": "ipython",
    "version": 3
   },
   "file_extension": ".py",
   "mimetype": "text/x-python",
   "name": "python",
   "nbconvert_exporter": "python",
   "pygments_lexer": "ipython3",
   "version": "3.9.7"
  },
  "orig_nbformat": 4
 },
 "nbformat": 4,
 "nbformat_minor": 2
}
