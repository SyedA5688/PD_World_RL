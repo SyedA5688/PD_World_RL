{
 "cells": [
  {
   "cell_type": "code",
   "execution_count": 3,
   "metadata": {},
   "outputs": [],
   "source": [
    "import numpy as np\n",
    "from collections import namedtuple"
   ]
  },
  {
   "cell_type": "code",
   "execution_count": 9,
   "metadata": {},
   "outputs": [],
   "source": [
    "State = namedtuple('State', \n",
    "                   ['my_i', 'my_j', 'x', 'other_i', 'other_j', 'a', 'b', 'c', 'd', 'e', 'f'])"
   ]
  },
  {
   "cell_type": "markdown",
   "metadata": {},
   "source": [
    "#### PDWorld"
   ]
  },
  {
   "cell_type": "code",
   "execution_count": 12,
   "metadata": {},
   "outputs": [],
   "source": [
    "class PDWorld:\n",
    "    def __init__(self):\n",
    "        self.size = 5\n",
    "        self.pickup_locations = [(3,5), (4,2)]\n",
    "        self.dropoff_locations = [(1,1), (1,5), (3,3), (5,5)]\n",
    "    \n",
    "    def setup(self, size : int, pickup_locations : list = None, dropoff_locations : list = None):\n",
    "        if size:\n",
    "            self.size = size\n",
    "            self.board = np.zeros((size, size))\n",
    "        if pickup_locations:\n",
    "            self.pickup_locations = pickup_locations\n",
    "        if dropoff_locations:\n",
    "            self.dropoff_locations = dropoff_locations\n"
   ]
  },
  {
   "cell_type": "markdown",
   "metadata": {},
   "source": [
    "#### Controller"
   ]
  },
  {
   "cell_type": "code",
   "execution_count": 13,
   "metadata": {},
   "outputs": [],
   "source": [
    "world = PDWorld()\n",
    "world.setup(size=5)\n",
    "\n",
    "# Experiment 1b pseudocode\n",
    "# world.setup(size = 5,\n",
    "#             pickup_locations = [(3,5), (4,2)],\n",
    "#             dropoff_locations = [(1,1), (1,5), (3,3), (5,5)])\n",
    "# world.run(steps=500, policy='PRANDOM', alpha=0.3, gamma=0.5)\n",
    "# world.run(steps=7500, policy='PGREEDY', alpha=0.3, gamma=0.5)\n",
    "# world.summary()\n",
    "# world.display_q_table(agent='male', x=0)\n",
    "\n",
    "# Experiment 4 pseudocode\n",
    "# world.setup(size = 5,\n",
    "#             pickup_locations = [(3,5), (4,2)],\n",
    "#             dropoff_locations = [(1,1), (1,5), (3,3), (5,5)])\n",
    "# world.run(steps=500, policy='PRANDOM', alpha=0.3, gamma=0.5, method='SARSA', animate=True)\n",
    "# world.run(total_runs=3, policy='PEXPLOIT', alpha=0.3, gamma=0.5, method='SARSA', animate=True)\n",
    "# world.setup(pickup_locations = [(1,2), (4,5)])\n",
    "# world.run(total_runs=3, policy='PEXPLOIT', alpha=0.3, gamma=0.5, method='SARSA', animate=True)\n",
    "# world.summary()"
   ]
  },
  {
   "cell_type": "markdown",
   "metadata": {},
   "source": [
    "#### Q-Table"
   ]
  },
  {
   "cell_type": "code",
   "execution_count": null,
   "metadata": {},
   "outputs": [],
   "source": [
    "class QTable:\n",
    "    def __init__(self):\n",
    "        self.q_table = np.zeros((world.size**4 * 2**7 ,6))\n",
    "    \n",
    "    def _encode_state(state : State):\n",
    "        \"\"\"Encodes the given state into its row index in the Q-table\n",
    "\n",
    "        Parameters\n",
    "        ----------\n",
    "        state : State\n",
    "            Named tuple containing state information\n",
    "        \n",
    "        Returns\n",
    "        -------\n",
    "        int\n",
    "            integer index of state in Q-table\n",
    "        \"\"\"\n",
    "        return (\n",
    "            state.my_i * world.size**3 * 2**7 +\n",
    "            state.my_j * world.size**2 * 2**7 +\n",
    "            state.x * world.size**2 * 2**6 +\n",
    "            state.other_i * world.size * 2**6 +\n",
    "            state.other_j * 2**6 +\n",
    "            state.a * 2**5 +\n",
    "            state.b * 2**4 +\n",
    "            state.c * 2**3 +\n",
    "            state.d * 2**2 +\n",
    "            state.e * 2 +\n",
    "            state.f)\n",
    "    "
   ]
  }
 ],
 "metadata": {
  "interpreter": {
   "hash": "cef9e06bb236b2a8629b07e87a04b187b952a0f661eff5533360a155783f0c33"
  },
  "kernelspec": {
   "display_name": "Python 3.9.7 ('base')",
   "language": "python",
   "name": "python3"
  },
  "language_info": {
   "codemirror_mode": {
    "name": "ipython",
    "version": 3
   },
   "file_extension": ".py",
   "mimetype": "text/x-python",
   "name": "python",
   "nbconvert_exporter": "python",
   "pygments_lexer": "ipython3",
   "version": "3.9.7"
  },
  "orig_nbformat": 4
 },
 "nbformat": 4,
 "nbformat_minor": 2
}
